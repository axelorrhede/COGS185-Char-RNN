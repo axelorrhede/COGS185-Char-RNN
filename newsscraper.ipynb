{
 "cells": [
  {
   "cell_type": "code",
   "execution_count": null,
   "id": "9269af07",
   "metadata": {},
   "outputs": [],
   "source": [
    "import praw\n",
    "from itertools import islice\n",
    "import spacy\n"
   ]
  },
  {
   "cell_type": "code",
   "execution_count": null,
   "id": "68613b02",
   "metadata": {},
   "outputs": [
    {
     "name": "stdout",
     "output_type": "stream",
     "text": [
      "Collected 997 entries with NER.\n"
     ]
    }
   ],
   "source": [
    "nlp = spacy.load(\"en_core_web_sm\")\n",
    "\n",
    "reddit = praw.Reddit(\n",
    "    client_id=\"7fvE1QgAPTvqElyf0l5l0A\",\n",
    "    client_secret=\"uK0T064WyyBpOfmu79KnoE7depoE_Q\",\n",
    "    user_agent=\"char-rnn-AMA by u/Axel\"\n",
    ")\n",
    "\n",
    "subreddit = reddit.subreddit(\"neutralnews\")\n",
    "\n",
    "dataset = []\n",
    "\n",
    "# Customize your range\n",
    "start = 0\n",
    "end = 10000\n",
    "\n",
    "suffixes = (\"an\", \"ese\", \"ian\", \"ish\", \"i\", \"ic\")\n",
    "\n",
    "# top, hot, new, rising, controversial, \n",
    "for post in islice(subreddit.controversial(limit = None), start, end):\n",
    "    if not post.stickied and post.selftext != '[deleted]':\n",
    "        title = post.title.strip()\n",
    "        doc = nlp(title)\n",
    "\n",
    "        named_entities = [ent.text for ent in doc.ents if ent.label_ in {\"PERSON\", \"ORG\", \"GPE\", \"LOC\", \"EVENT\"} and len(ent.text.split()) <= 3]\n",
    "\n",
    "        nationality_adjectives = [\n",
    "            token.text for token in doc\n",
    "            if token.pos_ == \"ADJ\" and token.text.lower().endswith(suffixes) and token.is_alpha\n",
    "        ]\n",
    "\n",
    "        all_entities = list(set(named_entities + nationality_adjectives))\n",
    "\n",
    "        dataset.append((all_entities, title))\n",
    "\n",
    "print(f\"Collected {len(dataset)} entries with NER.\")\n",
    "\n",
    "with open(\"neutralnews.txt\", \"a\", encoding=\"utf-8\") as f:\n",
    "    for entities, title in dataset:\n",
    "        entity_str = \", \".join(entities)\n",
    "        f.write(f\"({entity_str}) ||| {title}\\n\")\n"
   ]
  }
 ],
 "metadata": {
  "kernelspec": {
   "display_name": "base",
   "language": "python",
   "name": "python3"
  },
  "language_info": {
   "codemirror_mode": {
    "name": "ipython",
    "version": 3
   },
   "file_extension": ".py",
   "mimetype": "text/x-python",
   "name": "python",
   "nbconvert_exporter": "python",
   "pygments_lexer": "ipython3",
   "version": "3.12.3"
  }
 },
 "nbformat": 4,
 "nbformat_minor": 5
}
