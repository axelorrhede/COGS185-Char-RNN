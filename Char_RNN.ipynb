{
 "cells": [
  {
   "cell_type": "markdown",
   "metadata": {
    "id": "nygN7mxpOBYE"
   },
   "source": []
  },
  {
   "cell_type": "code",
   "execution_count": 1,
   "metadata": {
    "id": "luDXTIAeOBYI"
   },
   "outputs": [],
   "source": [
    "import numpy as np\n",
    "import torch\n",
    "import torch.nn as nn\n",
    "import torch.nn.functional as F\n",
    "from torch.distributions import Categorical\n",
    "from tqdm import tqdm\n",
    "import random\n",
    "import os\n",
    "import torch.nn.utils.rnn as rnn_utils\n",
    "\n"
   ]
  },
  {
   "cell_type": "code",
   "execution_count": 2,
   "metadata": {
    "colab": {
     "base_uri": "https://localhost:8080/"
    },
    "id": "RLxtLNDTOBYM",
    "outputId": "82984473-fb6f-4e11-e5c6-ed9fca7b8dc5"
   },
   "outputs": [
    {
     "name": "stdout",
     "output_type": "stream",
     "text": [
      "cuda\n"
     ]
    }
   ],
   "source": [
    "device = torch.device(\"cuda\" if torch.cuda.is_available() else \"cpu\")\n",
    "print(device)"
   ]
  },
  {
   "cell_type": "code",
   "execution_count": 3,
   "metadata": {},
   "outputs": [
    {
     "name": "stdout",
     "output_type": "stream",
     "text": [
      "----------------------------------------\n",
      "Data has 6817585 characters, 66 unique\n",
      "EOS token: '\\x03'\n",
      "----------------------------------------\n"
     ]
    }
   ],
   "source": [
    "def load_all_txt_data(device='cpu', eos_token='\\x03'):  # EOS token (␃)\n",
    "    all_text = \"\"\n",
    "    file_list = [f for f in os.listdir() if f.endswith(\".txt\")]\n",
    "\n",
    "    # Read all files and add EOS tokens, removing non-ASCII except EOS\n",
    "    for fname in file_list:\n",
    "        with open(fname, 'r', encoding='utf-8') as f:\n",
    "            lines = f.read().lower().splitlines()\n",
    "            for line in lines:\n",
    "                clean_line = ''.join([ch for ch in line if ch.isascii()])\n",
    "                all_text += clean_line + eos_token\n",
    "\n",
    "    # Build vocab including EOS token\n",
    "    chars = sorted(list(set(all_text)))\n",
    "    data_size, vocab_size = len(all_text), len(chars)\n",
    "    print(\"----------------------------------------\")\n",
    "    print(\"Data has {} characters, {} unique\".format(data_size, vocab_size))\n",
    "    print(\"EOS token:\", repr(eos_token))\n",
    "    print(\"----------------------------------------\")\n",
    "\n",
    "    char_to_ix = {ch: i for i, ch in enumerate(chars)}\n",
    "    ix_to_char = {i: ch for ch, i in char_to_ix.items()}\n",
    "\n",
    "    # Reload with EOS and convert to tensors\n",
    "    data = []\n",
    "    for fname in file_list:\n",
    "        with open(fname, 'r', encoding='utf-8') as f:\n",
    "            lines = f.read().lower().splitlines()\n",
    "            for line in lines:\n",
    "                clean_line = ''.join([ch for ch in line if ch.isascii()])\n",
    "                clean_line += eos_token  # Append EOS\n",
    "                indices = [char_to_ix[ch] for ch in clean_line if ch in char_to_ix]\n",
    "                tensor = torch.tensor(indices).to(device)\n",
    "                if tensor.numel() > 1:\n",
    "                    data.append(tensor)\n",
    "\n",
    "    return data, char_to_ix, ix_to_char, vocab_size\n",
    "data, char_to_ix, ix_to_char, vocab_size = load_all_txt_data(device)\n",
    "\n"
   ]
  },
  {
   "cell_type": "code",
   "execution_count": 4,
   "metadata": {
    "colab": {
     "base_uri": "https://localhost:8080/"
    },
    "id": "Msix-G-Vi5bK",
    "outputId": "6a60f697-e5a2-4d14-c235-89e625c5752c"
   },
   "outputs": [
    {
     "name": "stdout",
     "output_type": "stream",
     "text": [
      "62228\n"
     ]
    }
   ],
   "source": [
    "print(len(data))"
   ]
  },
  {
   "cell_type": "code",
   "execution_count": null,
   "metadata": {
    "id": "68Pdpfx8OBYQ"
   },
   "outputs": [],
   "source": [
    "class RNN(nn.Module):\n",
    "    def __init__(self, input_size, embedding_size, output_size, hidden_size, num_layers=1):\n",
    "        super(RNN, self).__init__()\n",
    "        self.hidden_size = hidden_size\n",
    "        self.num_layers = num_layers\n",
    "\n",
    "        self.embedding = nn.Embedding(input_size, embedding_size)\n",
    "        self.rnn = nn.LSTM(\n",
    "            input_size=embedding_size,\n",
    "            hidden_size=hidden_size,\n",
    "            num_layers=num_layers,\n",
    "            batch_first=False \n",
    "        )\n",
    "        self.decoder = nn.Linear(hidden_size, output_size)\n",
    "\n",
    "    def forward(self, input_seq, hidden_state):\n",
    "        embedded = self.embedding(input_seq)  \n",
    "        output, hidden_state = self.rnn(embedded, hidden_state)\n",
    "        output = self.decoder(output) \n",
    "        return output, hidden_state\n",
    "\n",
    "    def init_hidden(self, batch_size, device):\n",
    "        h0 = torch.zeros(self.num_layers, batch_size, self.hidden_size).to(device)\n",
    "        c0 = torch.zeros(self.num_layers, batch_size, self.hidden_size).to(device)\n",
    "        return (h0, c0)\n"
   ]
  },
  {
   "cell_type": "code",
   "execution_count": 6,
   "metadata": {
    "id": "F_q0EVV5OBYR"
   },
   "outputs": [],
   "source": [
    "model = RNN(input_size=vocab_size,\n",
    "            embedding_size=vocab_size,\n",
    "            output_size=vocab_size,\n",
    "            hidden_size=512,\n",
    "            num_layers=3).to(device)\n",
    "loss_fn = nn.CrossEntropyLoss()\n"
   ]
  },
  {
   "cell_type": "code",
   "execution_count": null,
   "metadata": {
    "colab": {
     "base_uri": "https://localhost:8080/"
    },
    "id": "kv4jVIqUgc4R",
    "outputId": "a37c02f2-e116-4094-f7be-dba2c9394eae"
   },
   "outputs": [
    {
     "name": "stdout",
     "output_type": "stream",
     "text": [
      "The model has 5428550 parameters.\n"
     ]
    }
   ],
   "source": [
    "total_params = sum(p.numel() for p in model.parameters())\n",
    "print(f\"The model has {total_params} parameters.\")"
   ]
  },
  {
   "cell_type": "code",
   "execution_count": null,
   "metadata": {},
   "outputs": [],
   "source": [
    "optimizer = torch.optim.Adam(model.parameters(), lr=1e-4)\n",
    "batch_size = 32\n",
    "epochs = 10\n",
    "model.train()\n",
    "\n",
    "for i_epoch in range(1, epochs + 1):\n",
    "    random.shuffle(data)\n",
    "\n",
    "    n = 0\n",
    "    running_loss = 0\n",
    "\n",
    "    for i in tqdm(range(0, len(data), batch_size), desc=f\"Epoch {i_epoch}\"):\n",
    "        batch = data[i:i + batch_size]\n",
    "\n",
    "        input_seqs = [seq[:-1] for seq in batch]\n",
    "        target_seqs = [seq[1:] for seq in batch]\n",
    "\n",
    "        input_padded = rnn_utils.pad_sequence(input_seqs, batch_first=False)  \n",
    "        target_padded = rnn_utils.pad_sequence(target_seqs, batch_first=False)\n",
    "\n",
    "        input_padded = input_padded.to(device)\n",
    "        target_padded = target_padded.to(device)\n",
    "\n",
    "        hidden = model.init_hidden(input_padded.size(1), device)  # current batch size\n",
    "\n",
    "        output, hidden = model(input_padded, hidden)\n",
    "\n",
    "        loss = loss_fn(output.view(-1, output.size(-1)), target_padded.view(-1))\n",
    "        running_loss += loss.item()\n",
    "        n += 1\n",
    "\n",
    "        optimizer.zero_grad()\n",
    "        loss.backward()\n",
    "        optimizer.step()\n",
    "\n",
    "    print(\"Epoch: {0} \\t Loss: {1:.8f}\".format(i_epoch, running_loss / n))\n",
    "\n",
    "    if i_epoch % 5 == 0:\n",
    "        torch.save(model.state_dict(), \"model.pth\")\n"
   ]
  },
  {
   "cell_type": "code",
   "execution_count": null,
   "metadata": {},
   "outputs": [],
   "source": [
    "# Save model parameters\n",
    "# torch.save(model.state_dict(), \"model_3layer512.pth\")\n"
   ]
  },
  {
   "cell_type": "code",
   "execution_count": 8,
   "metadata": {},
   "outputs": [
    {
     "data": {
      "text/plain": [
       "RNN(\n",
       "  (embedding): Embedding(66, 66)\n",
       "  (rnn): LSTM(66, 512, num_layers=3)\n",
       "  (decoder): Linear(in_features=512, out_features=66, bias=True)\n",
       ")"
      ]
     },
     "execution_count": 8,
     "metadata": {},
     "output_type": "execute_result"
    }
   ],
   "source": [
    "model = RNN(input_size=vocab_size,\n",
    "        embedding_size=vocab_size,\n",
    "        output_size=vocab_size,\n",
    "        hidden_size=512,\n",
    "        num_layers=3).to(device)\n",
    "model.load_state_dict(torch.load(\"model_3layer512.pth\")) \n",
    "model.to(device)"
   ]
  },
  {
   "cell_type": "code",
   "execution_count": 9,
   "metadata": {},
   "outputs": [],
   "source": [
    "def format_named_entities(entities):\n",
    "    if not entities:\n",
    "        return \"() ||| \"\n",
    "    entity_str = \", \".join(entities)\n",
    "    return f\"({entity_str}) ||| \"\n"
   ]
  },
  {
   "cell_type": "code",
   "execution_count": 290,
   "metadata": {
    "colab": {
     "base_uri": "https://localhost:8080/"
    },
    "id": "64ODc22iPXm4",
    "outputId": "d243f3dc-9c5a-4480-a263-4637a16e7de7"
   },
   "outputs": [
    {
     "name": "stdout",
     "output_type": "stream",
     "text": [
      "(ai) ||| \n",
      "ai could keep us dependent on natural gas for defying human rights"
     ]
    }
   ],
   "source": [
    "prompt = ['ai']\n",
    "\n",
    "prompt = format_named_entities(prompt).lower()\n",
    "print(prompt)\n",
    "prompt = [char_to_ix[ch] for ch in prompt]\n",
    "model.eval()  # Use this for inference mode\n",
    "\n",
    "with torch.no_grad():\n",
    "    prompt_tensor = torch.tensor(prompt).to(device).long()\n",
    "    hidden = model.init_hidden(1, device)  # batch size\n",
    "\n",
    "    # Prime the model\n",
    "    output, hidden = model(prompt_tensor.unsqueeze(1), hidden)  # [seq_len, batch]\n",
    "    temperature = 0.5\n",
    "\n",
    "    while True:\n",
    "        last_logits = output[-1].squeeze()  # Shape: [vocab_size]\n",
    "        # Sample from softmax\n",
    "        prediction = torch.multinomial(torch.softmax(last_logits/temperature, dim=0), num_samples=1)\n",
    "        # Print character\n",
    "        if ix_to_char[int(prediction.item())] == '\\x03':\n",
    "            break\n",
    "        print(ix_to_char[int(prediction.item())], end=\"\")\n",
    "\n",
    "\n",
    "        # Prepare input for next step\n",
    "        inp = prediction.view(1, 1)  # [seq_len=1, batch=1]\n",
    "        output, hidden = model(inp, hidden)\n",
    "        temperature = 0.5\n",
    "\n",
    "\n"
   ]
  }
 ],
 "metadata": {
  "accelerator": "GPU",
  "colab": {
   "gpuType": "T4",
   "provenance": []
  },
  "kernelspec": {
   "display_name": "Python 3 (ipykernel)",
   "language": "python",
   "name": "python3"
  },
  "language_info": {
   "codemirror_mode": {
    "name": "ipython",
    "version": 3
   },
   "file_extension": ".py",
   "mimetype": "text/x-python",
   "name": "python",
   "nbconvert_exporter": "python",
   "pygments_lexer": "ipython3",
   "version": "3.11.9"
  }
 },
 "nbformat": 4,
 "nbformat_minor": 4
}
